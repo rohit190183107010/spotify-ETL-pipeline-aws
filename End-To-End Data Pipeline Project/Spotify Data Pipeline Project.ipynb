{
 "cells": [
  {
   "cell_type": "code",
   "execution_count": 2,
   "metadata": {},
   "outputs": [
    {
     "name": "stderr",
     "output_type": "stream",
     "text": [
      "'pip' is not recognized as an internal or external command,\n",
      "operable program or batch file.\n"
     ]
    }
   ],
   "source": [
    "!pip install spotipy"
   ]
  },
  {
   "cell_type": "code",
   "execution_count": 3,
   "metadata": {},
   "outputs": [],
   "source": [
    "import spotipy\n",
    "from spotipy import SpotifyClientCredentials\n",
    "import pandas as pd\n",
    "from config import CLIENT_ID,CLIENT_SECRET\n"
   ]
  },
  {
   "cell_type": "markdown",
   "metadata": {},
   "source": []
  },
  {
   "cell_type": "code",
   "execution_count": 4,
   "metadata": {},
   "outputs": [],
   "source": [
    "#add your keys here\n",
    "client_credentials_manager = SpotifyClientCredentials(client_id=CLIENT_ID,client_secret=CLIENT_SECRET)\n"
   ]
  },
  {
   "cell_type": "code",
   "execution_count": 5,
   "metadata": {},
   "outputs": [],
   "source": [
    "sp = spotipy.Spotify(client_credentials_manager=client_credentials_manager)"
   ]
  },
  {
   "cell_type": "code",
   "execution_count": 6,
   "metadata": {},
   "outputs": [
    {
     "data": {
      "text/plain": [
       "<spotipy.client.Spotify at 0x17655da1190>"
      ]
     },
     "execution_count": 6,
     "metadata": {},
     "output_type": "execute_result"
    }
   ],
   "source": [
    "sp"
   ]
  },
  {
   "cell_type": "code",
   "execution_count": 7,
   "metadata": {},
   "outputs": [],
   "source": [
    "playlist_link = \"https://open.spotify.com/playlist/37i9dQZEVXbNG2KDcFcKOF?si=1333723a6eff4b7f\""
   ]
  },
  {
   "cell_type": "code",
   "execution_count": 8,
   "metadata": {},
   "outputs": [
    {
     "data": {
      "text/plain": [
       "'https://open.spotify.com/playlist/37i9dQZEVXbNG2KDcFcKOF?si=1333723a6eff4b7f'"
      ]
     },
     "execution_count": 8,
     "metadata": {},
     "output_type": "execute_result"
    }
   ],
   "source": [
    "playlist_link"
   ]
  },
  {
   "cell_type": "code",
   "execution_count": 9,
   "metadata": {},
   "outputs": [
    {
     "data": {
      "text/plain": [
       "'37i9dQZEVXbNG2KDcFcKOF'"
      ]
     },
     "execution_count": 9,
     "metadata": {},
     "output_type": "execute_result"
    }
   ],
   "source": [
    "playlist_URI = playlist_link.split(\"/\")[-1].split(\"?\")[0]\n",
    "playlist_URI"
   ]
  },
  {
   "cell_type": "code",
   "execution_count": 10,
   "metadata": {},
   "outputs": [],
   "source": [
    "data = sp.playlist_tracks(playlist_URI)"
   ]
  },
  {
   "cell_type": "code",
   "execution_count": 11,
   "metadata": {},
   "outputs": [
    {
     "data": {
      "text/plain": [
       "'7aGzSSUD8S6IhPCsZSiuMT'"
      ]
     },
     "execution_count": 11,
     "metadata": {},
     "output_type": "execute_result"
    }
   ],
   "source": [
    "data['items'][0]['track']['album']['id']\n"
   ]
  },
  {
   "cell_type": "code",
   "execution_count": 12,
   "metadata": {},
   "outputs": [
    {
     "data": {
      "text/plain": [
       "'un x100to'"
      ]
     },
     "execution_count": 12,
     "metadata": {},
     "output_type": "execute_result"
    }
   ],
   "source": [
    "data['items'][0]['track']['album']['name']\n"
   ]
  },
  {
   "cell_type": "code",
   "execution_count": 13,
   "metadata": {},
   "outputs": [
    {
     "data": {
      "text/plain": [
       "'2023-04-17'"
      ]
     },
     "execution_count": 13,
     "metadata": {},
     "output_type": "execute_result"
    }
   ],
   "source": [
    "data['items'][0]['track']['album']['release_date']\n"
   ]
  },
  {
   "cell_type": "code",
   "execution_count": 14,
   "metadata": {},
   "outputs": [
    {
     "data": {
      "text/plain": [
       "1"
      ]
     },
     "execution_count": 14,
     "metadata": {},
     "output_type": "execute_result"
    }
   ],
   "source": [
    "data['items'][0]['track']['album']['total_tracks']\n"
   ]
  },
  {
   "cell_type": "code",
   "execution_count": 15,
   "metadata": {},
   "outputs": [
    {
     "data": {
      "text/plain": [
       "'https://open.spotify.com/album/7aGzSSUD8S6IhPCsZSiuMT'"
      ]
     },
     "execution_count": 15,
     "metadata": {},
     "output_type": "execute_result"
    }
   ],
   "source": [
    "data['items'][0]['track']['album']['external_urls']['spotify']\n"
   ]
  },
  {
   "cell_type": "code",
   "execution_count": 17,
   "metadata": {},
   "outputs": [],
   "source": [
    "album_list=[]\n",
    "for row in data['items']:\n",
    "    album_id = row['track']['album']['id']\n",
    "    album_name = row['track']['album']['name']\n",
    "    album_release_date = row['track']['album']['release_date']\n",
    "    album_total_tracks = row['track']['album']['total_tracks']\n",
    "    album_url = row['track']['album']['external_urls']['spotify']\n",
    "    ablum_element = {'album_id':album_id,'name':album_name,'release_date':album_release_date,'total_tracks':album_total_tracks,'url':album_url}\n",
    "    album_list.append(ablum_element)\n"
   ]
  },
  {
   "cell_type": "code",
   "execution_count": 18,
   "metadata": {},
   "outputs": [
    {
     "data": {
      "text/plain": [
       "[{'album_id': '7aGzSSUD8S6IhPCsZSiuMT',\n",
       "  'name': 'un x100to',\n",
       "  'release_date': '2023-04-17',\n",
       "  'total_tracks': 1,\n",
       "  'url': 'https://open.spotify.com/album/7aGzSSUD8S6IhPCsZSiuMT'},\n",
       " {'album_id': '5aDEezKnOqyQo0qvTFhpkM',\n",
       "  'name': 'DESVELADO',\n",
       "  'release_date': '2023-04-28',\n",
       "  'total_tracks': 16,\n",
       "  'url': 'https://open.spotify.com/album/5aDEezKnOqyQo0qvTFhpkM'},\n",
       " {'album_id': '6aBVGuOUEuX18rHxyDWbti',\n",
       "  'name': 'La Bebe (Remix)',\n",
       "  'release_date': '2023-03-17',\n",
       "  'total_tracks': 2,\n",
       "  'url': 'https://open.spotify.com/album/6aBVGuOUEuX18rHxyDWbti'},\n",
       " {'album_id': '5letLUZIFsQikJYShfGNs4',\n",
       "  'name': 'The Beginning: Cupid',\n",
       "  'release_date': '2023-02-24',\n",
       "  'total_tracks': 3,\n",
       "  'url': 'https://open.spotify.com/album/5letLUZIFsQikJYShfGNs4'},\n",
       " {'album_id': '0HiZ8fNXwJOQcrf5iflrdz',\n",
       "  'name': 'Endless Summer Vacation',\n",
       "  'release_date': '2023-03-10',\n",
       "  'total_tracks': 13,\n",
       "  'url': 'https://open.spotify.com/album/0HiZ8fNXwJOQcrf5iflrdz'},\n",
       " {'album_id': '1nrVofqDRs7cpWXJ49qTnP',\n",
       "  'name': 'SOS',\n",
       "  'release_date': '2022-12-08',\n",
       "  'total_tracks': 23,\n",
       "  'url': 'https://open.spotify.com/album/1nrVofqDRs7cpWXJ49qTnP'},\n",
       " {'album_id': '6NcI39WPu4kY6Tul11nhSv',\n",
       "  'name': 'Daylight',\n",
       "  'release_date': '2023-04-14',\n",
       "  'total_tracks': 1,\n",
       "  'url': 'https://open.spotify.com/album/6NcI39WPu4kY6Tul11nhSv'},\n",
       " {'album_id': '4kS7bSuU0Jm9LYMosFU2x5',\n",
       "  'name': 'MAÑANA SERÁ BONITO',\n",
       "  'release_date': '2023-02-24',\n",
       "  'total_tracks': 17,\n",
       "  'url': 'https://open.spotify.com/album/4kS7bSuU0Jm9LYMosFU2x5'},\n",
       " {'album_id': '5r36AJ6VOJtp00oxSkBZ5h',\n",
       "  'name': \"Harry's House\",\n",
       "  'release_date': '2022-05-20',\n",
       "  'total_tracks': 13,\n",
       "  'url': 'https://open.spotify.com/album/5r36AJ6VOJtp00oxSkBZ5h'},\n",
       " {'album_id': '4jtQUtS4ABgER3DnGfKJCv',\n",
       "  'name': 'Classy 101',\n",
       "  'release_date': '2023-03-31',\n",
       "  'total_tracks': 1,\n",
       "  'url': 'https://open.spotify.com/album/4jtQUtS4ABgER3DnGfKJCv'},\n",
       " {'album_id': '2OXBosbXT7Qs3J6vBd6IkI',\n",
       "  'name': 'PRC',\n",
       "  'release_date': '2023-01-23',\n",
       "  'total_tracks': 1,\n",
       "  'url': 'https://open.spotify.com/album/2OXBosbXT7Qs3J6vBd6IkI'},\n",
       " {'album_id': '0nayxjaX54Frd7GsZq6Pbs',\n",
       "  'name': 'Rave & Roses Ultra',\n",
       "  'release_date': '2023-04-27',\n",
       "  'total_tracks': 22,\n",
       "  'url': 'https://open.spotify.com/album/0nayxjaX54Frd7GsZq6Pbs'},\n",
       " {'album_id': '50uChhk7AKkzDKytDixjYW',\n",
       "  'name': 'RR',\n",
       "  'release_date': '2023-03-24',\n",
       "  'total_tracks': 3,\n",
       "  'url': 'https://open.spotify.com/album/50uChhk7AKkzDKytDixjYW'},\n",
       " {'album_id': '35dut3ICqF3NEDkjxfzJJ1',\n",
       "  'name': 'Starboy (Deluxe)',\n",
       "  'release_date': '2023-03-14',\n",
       "  'total_tracks': 21,\n",
       "  'url': 'https://open.spotify.com/album/35dut3ICqF3NEDkjxfzJJ1'},\n",
       " {'album_id': '7txGsnDSqVMoRl6RQ9XyZP',\n",
       "  'name': 'HEROES & VILLAINS',\n",
       "  'release_date': '2022-12-02',\n",
       "  'total_tracks': 15,\n",
       "  'url': 'https://open.spotify.com/album/7txGsnDSqVMoRl6RQ9XyZP'},\n",
       " {'album_id': '2szyIt0ulaHnKxxyrlUCDB',\n",
       "  'name': 'El Azul',\n",
       "  'release_date': '2023-02-10',\n",
       "  'total_tracks': 1,\n",
       "  'url': 'https://open.spotify.com/album/2szyIt0ulaHnKxxyrlUCDB'},\n",
       " {'album_id': '5xefnzEqKIWnmTWYFzekGZ',\n",
       "  'name': 'Resistencia',\n",
       "  'release_date': '2023-01-13',\n",
       "  'total_tracks': 17,\n",
       "  'url': 'https://open.spotify.com/album/5xefnzEqKIWnmTWYFzekGZ'},\n",
       " {'album_id': '0s2sLResjP92wRavoj9k0O',\n",
       "  'name': 'AMG',\n",
       "  'release_date': '2022-11-24',\n",
       "  'total_tracks': 1,\n",
       "  'url': 'https://open.spotify.com/album/0s2sLResjP92wRavoj9k0O'},\n",
       " {'album_id': '2nkto6YNI4rUYTLqEwWJ3o',\n",
       "  'name': 'Flower Boy',\n",
       "  'release_date': '2017-07-21',\n",
       "  'total_tracks': 14,\n",
       "  'url': 'https://open.spotify.com/album/2nkto6YNI4rUYTLqEwWJ3o'},\n",
       " {'album_id': '6cVfHBcp3AdpYY0bBglkLN',\n",
       "  'name': \"Boy's a liar Pt. 2\",\n",
       "  'release_date': '2023-02-03',\n",
       "  'total_tracks': 2,\n",
       "  'url': 'https://open.spotify.com/album/6cVfHBcp3AdpYY0bBglkLN'},\n",
       " {'album_id': '151w1FgRZfnKZA9FEcg9Z3',\n",
       "  'name': 'Midnights',\n",
       "  'release_date': '2022-10-21',\n",
       "  'total_tracks': 13,\n",
       "  'url': 'https://open.spotify.com/album/151w1FgRZfnKZA9FEcg9Z3'},\n",
       " {'album_id': '6i7mF7whyRJuLJ4ogbH2wh',\n",
       "  'name': 'One Thing At A Time',\n",
       "  'release_date': '2023-03-03',\n",
       "  'total_tracks': 36,\n",
       "  'url': 'https://open.spotify.com/album/6i7mF7whyRJuLJ4ogbH2wh'},\n",
       " {'album_id': '4AdZV63ycxFLF6Hcol0QnB',\n",
       "  'name': 'Starboy',\n",
       "  'release_date': '2016-11-24',\n",
       "  'total_tracks': 18,\n",
       "  'url': 'https://open.spotify.com/album/4AdZV63ycxFLF6Hcol0QnB'},\n",
       " {'album_id': '7M842DMhYVALrXsw3ty7B3',\n",
       "  'name': \"I'm Good (Blue)\",\n",
       "  'release_date': '2022-08-26',\n",
       "  'total_tracks': 2,\n",
       "  'url': 'https://open.spotify.com/album/7M842DMhYVALrXsw3ty7B3'},\n",
       " {'album_id': '6USJaTtVIy0YH5hhzOWVHe',\n",
       "  'name': 'Por las Noches',\n",
       "  'release_date': '2021-06-11',\n",
       "  'total_tracks': 1,\n",
       "  'url': 'https://open.spotify.com/album/6USJaTtVIy0YH5hhzOWVHe'},\n",
       " {'album_id': '78bpIziExqiI9qztvNFlQu',\n",
       "  'name': 'AM',\n",
       "  'release_date': '2013-09-09',\n",
       "  'total_tracks': 12,\n",
       "  'url': 'https://open.spotify.com/album/78bpIziExqiI9qztvNFlQu'},\n",
       " {'album_id': '0DqHNI5QhosQmpQ5Ojzqe6',\n",
       "  'name': 'El Gordo Trae El Mando',\n",
       "  'release_date': '2023-01-27',\n",
       "  'total_tracks': 1,\n",
       "  'url': 'https://open.spotify.com/album/0DqHNI5QhosQmpQ5Ojzqe6'},\n",
       " {'album_id': '0OuoHWf8yB0TPzoBWw1R1S',\n",
       "  'name': 'Here With Me',\n",
       "  'release_date': '2022-09-22',\n",
       "  'total_tracks': 1,\n",
       "  'url': 'https://open.spotify.com/album/0OuoHWf8yB0TPzoBWw1R1S'},\n",
       " {'album_id': '1gi2iwr1l8IUyHYHxi01pg',\n",
       "  'name': 'Shakira: Bzrp Music Sessions, Vol. 53',\n",
       "  'release_date': '2023-01-11',\n",
       "  'total_tracks': 1,\n",
       "  'url': 'https://open.spotify.com/album/1gi2iwr1l8IUyHYHxi01pg'},\n",
       " {'album_id': '3Uq1jNGnD412ZvCb6j2DKV',\n",
       "  'name': 'Gloria',\n",
       "  'release_date': '2023-01-27',\n",
       "  'total_tracks': 13,\n",
       "  'url': 'https://open.spotify.com/album/3Uq1jNGnD412ZvCb6j2DKV'},\n",
       " {'album_id': '4xc3Lc9yASZgEJGH7acWMB',\n",
       "  'name': 'FACE',\n",
       "  'release_date': '2023-03-24',\n",
       "  'total_tracks': 6,\n",
       "  'url': 'https://open.spotify.com/album/4xc3Lc9yASZgEJGH7acWMB'},\n",
       " {'album_id': '69AaAkdktFGnk9POmHENkT',\n",
       "  'name': 'this is what ____ feels like (Vol. 1-4)',\n",
       "  'release_date': '2022-09-23',\n",
       "  'total_tracks': 12,\n",
       "  'url': 'https://open.spotify.com/album/69AaAkdktFGnk9POmHENkT'},\n",
       " {'album_id': '7ARtQpvnPN2ucbmVHngLOs',\n",
       "  'name': 'Until I Found You (Em Beihold Version)',\n",
       "  'release_date': '2022-04-22',\n",
       "  'total_tracks': 1,\n",
       "  'url': 'https://open.spotify.com/album/7ARtQpvnPN2ucbmVHngLOs'},\n",
       " {'album_id': '2ODvWsOgouMbaA5xf0RkJe',\n",
       "  'name': 'Starboy',\n",
       "  'release_date': '2016-11-25',\n",
       "  'total_tracks': 18,\n",
       "  'url': 'https://open.spotify.com/album/2ODvWsOgouMbaA5xf0RkJe'},\n",
       " {'album_id': '2WFFcvzM0CgLaSq4MSkyZk',\n",
       "  'name': '- (Deluxe)',\n",
       "  'release_date': '2023-05-05',\n",
       "  'total_tracks': 18,\n",
       "  'url': 'https://open.spotify.com/album/2WFFcvzM0CgLaSq4MSkyZk'},\n",
       " {'album_id': '33inEak0hNKMDePhjGxE61',\n",
       "  'name': 'OneRepublic (Japan Paradise Tour Edition)',\n",
       "  'release_date': '2023-02-15',\n",
       "  'total_tracks': 18,\n",
       "  'url': 'https://open.spotify.com/album/33inEak0hNKMDePhjGxE61'},\n",
       " {'album_id': '4QuczuzDZNzCDli5Gz6DQ0',\n",
       "  'name': 'ME',\n",
       "  'release_date': '2023-03-31',\n",
       "  'total_tracks': 2,\n",
       "  'url': 'https://open.spotify.com/album/4QuczuzDZNzCDli5Gz6DQ0'},\n",
       " {'album_id': '0KGBW1MQtC2aFPCDUdAkdJ',\n",
       "  'name': 'Long Way Down',\n",
       "  'release_date': '2013-06-17',\n",
       "  'total_tracks': 10,\n",
       "  'url': 'https://open.spotify.com/album/0KGBW1MQtC2aFPCDUdAkdJ'},\n",
       " {'album_id': '1kjfMVBNhsDeRyAu9zbLfF',\n",
       "  'name': 'OzuTochi',\n",
       "  'release_date': '2022-10-07',\n",
       "  'total_tracks': 18,\n",
       "  'url': 'https://open.spotify.com/album/1kjfMVBNhsDeRyAu9zbLfF'},\n",
       " {'album_id': '7ubO2LZJZFpyhiWMZkRwcH',\n",
       "  'name': '2000',\n",
       "  'release_date': '2023-03-17',\n",
       "  'total_tracks': 15,\n",
       "  'url': 'https://open.spotify.com/album/7ubO2LZJZFpyhiWMZkRwcH'},\n",
       " {'album_id': '5OZ44LaqZbpP3m9B3oT8br',\n",
       "  'name': 'Red Moon In Venus',\n",
       "  'release_date': '2023-03-03',\n",
       "  'total_tracks': 15,\n",
       "  'url': 'https://open.spotify.com/album/5OZ44LaqZbpP3m9B3oT8br'},\n",
       " {'album_id': '5BRhg6NSEZOj0BR6Iz56fR',\n",
       "  'name': 'Plastic Hearts',\n",
       "  'release_date': '2020-11-27',\n",
       "  'total_tracks': 15,\n",
       "  'url': 'https://open.spotify.com/album/5BRhg6NSEZOj0BR6Iz56fR'},\n",
       " {'album_id': '5Hmh6N8oisrcuZKa8EY5dn',\n",
       "  'name': 'People',\n",
       "  'release_date': '2022-12-06',\n",
       "  'total_tracks': 1,\n",
       "  'url': 'https://open.spotify.com/album/5Hmh6N8oisrcuZKa8EY5dn'},\n",
       " {'album_id': '4PNqWiJAfjj32hVvlchV5u',\n",
       "  'name': 'Quevedo: Bzrp Music Sessions, Vol. 52',\n",
       "  'release_date': '2022-07-06',\n",
       "  'total_tracks': 1,\n",
       "  'url': 'https://open.spotify.com/album/4PNqWiJAfjj32hVvlchV5u'},\n",
       " {'album_id': '1kTlYbs28MXw7hwO0NLYif',\n",
       "  'name': 'Encore (Deluxe Version)',\n",
       "  'release_date': '2004-11-12',\n",
       "  'total_tracks': 23,\n",
       "  'url': 'https://open.spotify.com/album/1kTlYbs28MXw7hwO0NLYif'},\n",
       " {'album_id': '1NAmidJlEaVgA3MpcPFYGq',\n",
       "  'name': 'Lover',\n",
       "  'release_date': '2019-08-23',\n",
       "  'total_tracks': 18,\n",
       "  'url': 'https://open.spotify.com/album/1NAmidJlEaVgA3MpcPFYGq'},\n",
       " {'album_id': '6BGN5CVd7koJApotl5Bj8u',\n",
       "  'name': '3MEN2 KBRN',\n",
       "  'release_date': '2023-03-17',\n",
       "  'total_tracks': 18,\n",
       "  'url': 'https://open.spotify.com/album/6BGN5CVd7koJApotl5Bj8u'},\n",
       " {'album_id': '7qcSUc5Af63mhfTF60KTEA',\n",
       "  'name': 'Chemical',\n",
       "  'release_date': '2023-04-14',\n",
       "  'total_tracks': 1,\n",
       "  'url': 'https://open.spotify.com/album/7qcSUc5Af63mhfTF60KTEA'},\n",
       " {'album_id': '4cd4QB02mwPtiTOJBzQmWo',\n",
       "  'name': 'Chanel',\n",
       "  'release_date': '2023-03-30',\n",
       "  'total_tracks': 1,\n",
       "  'url': 'https://open.spotify.com/album/4cd4QB02mwPtiTOJBzQmWo'},\n",
       " {'album_id': '45ozep8uHHnj5CCittuyXj',\n",
       "  'name': \"NewJeans 'OMG'\",\n",
       "  'release_date': '2023-01-02',\n",
       "  'total_tracks': 2,\n",
       "  'url': 'https://open.spotify.com/album/45ozep8uHHnj5CCittuyXj'}]"
      ]
     },
     "execution_count": 18,
     "metadata": {},
     "output_type": "execute_result"
    }
   ],
   "source": [
    "album_list"
   ]
  },
  {
   "cell_type": "code",
   "execution_count": 60,
   "metadata": {},
   "outputs": [],
   "source": [
    "artist_list=[]\n",
    "for row in data['items']:\n",
    "        for key, value in row.items():\n",
    "                if key == \"track\":\n",
    "                        for artist in value['artists']:\n",
    "                                artist_dict = {'artist_id':artist['id'],'artist_name':artist['name'],'external_url':artist['href']}\n",
    "                                artist_list.append(artist_dict)\n",
    "\n"
   ]
  },
  {
   "cell_type": "code",
   "execution_count": 64,
   "metadata": {},
   "outputs": [
    {
     "data": {
      "text/html": [
       "<div>\n",
       "<style scoped>\n",
       "    .dataframe tbody tr th:only-of-type {\n",
       "        vertical-align: middle;\n",
       "    }\n",
       "\n",
       "    .dataframe tbody tr th {\n",
       "        vertical-align: top;\n",
       "    }\n",
       "\n",
       "    .dataframe thead th {\n",
       "        text-align: right;\n",
       "    }\n",
       "</style>\n",
       "<table border=\"1\" class=\"dataframe\">\n",
       "  <thead>\n",
       "    <tr style=\"text-align: right;\">\n",
       "      <th></th>\n",
       "      <th>artist_id</th>\n",
       "      <th>artist_name</th>\n",
       "      <th>external_url</th>\n",
       "    </tr>\n",
       "  </thead>\n",
       "  <tbody>\n",
       "    <tr>\n",
       "      <th>0</th>\n",
       "      <td>6XkjpgcEsYab502Vr1bBeW</td>\n",
       "      <td>Grupo Frontera</td>\n",
       "      <td>https://api.spotify.com/v1/artists/6XkjpgcEsYa...</td>\n",
       "    </tr>\n",
       "    <tr>\n",
       "      <th>1</th>\n",
       "      <td>4q3ewBCX7sLwd24euuV69X</td>\n",
       "      <td>Bad Bunny</td>\n",
       "      <td>https://api.spotify.com/v1/artists/4q3ewBCX7sL...</td>\n",
       "    </tr>\n",
       "    <tr>\n",
       "      <th>2</th>\n",
       "      <td>0XeEobZplHxzM9QzFQWLiR</td>\n",
       "      <td>Eslabon Armado</td>\n",
       "      <td>https://api.spotify.com/v1/artists/0XeEobZplHx...</td>\n",
       "    </tr>\n",
       "    <tr>\n",
       "      <th>3</th>\n",
       "      <td>12GqGscKJx3aE4t07u7eVZ</td>\n",
       "      <td>Peso Pluma</td>\n",
       "      <td>https://api.spotify.com/v1/artists/12GqGscKJx3...</td>\n",
       "    </tr>\n",
       "    <tr>\n",
       "      <th>4</th>\n",
       "      <td>1NNRWkhwmcXRimFYSBpB1y</td>\n",
       "      <td>Yng Lvcas</td>\n",
       "      <td>https://api.spotify.com/v1/artists/1NNRWkhwmcX...</td>\n",
       "    </tr>\n",
       "    <tr>\n",
       "      <th>...</th>\n",
       "      <td>...</td>\n",
       "      <td>...</td>\n",
       "      <td>...</td>\n",
       "    </tr>\n",
       "    <tr>\n",
       "      <th>71</th>\n",
       "      <td>4q3ewBCX7sLwd24euuV69X</td>\n",
       "      <td>Bad Bunny</td>\n",
       "      <td>https://api.spotify.com/v1/artists/4q3ewBCX7sL...</td>\n",
       "    </tr>\n",
       "    <tr>\n",
       "      <th>72</th>\n",
       "      <td>246dkjvS1zLTtiykXe5h60</td>\n",
       "      <td>Post Malone</td>\n",
       "      <td>https://api.spotify.com/v1/artists/246dkjvS1zL...</td>\n",
       "    </tr>\n",
       "    <tr>\n",
       "      <th>73</th>\n",
       "      <td>4obzFoKoKRHIphyHzJ35G3</td>\n",
       "      <td>Becky G</td>\n",
       "      <td>https://api.spotify.com/v1/artists/4obzFoKoKRH...</td>\n",
       "    </tr>\n",
       "    <tr>\n",
       "      <th>74</th>\n",
       "      <td>12GqGscKJx3aE4t07u7eVZ</td>\n",
       "      <td>Peso Pluma</td>\n",
       "      <td>https://api.spotify.com/v1/artists/12GqGscKJx3...</td>\n",
       "    </tr>\n",
       "    <tr>\n",
       "      <th>75</th>\n",
       "      <td>6HvZYsbFfjnjFrWF950C9d</td>\n",
       "      <td>NewJeans</td>\n",
       "      <td>https://api.spotify.com/v1/artists/6HvZYsbFfjn...</td>\n",
       "    </tr>\n",
       "  </tbody>\n",
       "</table>\n",
       "<p>76 rows × 3 columns</p>\n",
       "</div>"
      ],
      "text/plain": [
       "                 artist_id     artist_name  \\\n",
       "0   6XkjpgcEsYab502Vr1bBeW  Grupo Frontera   \n",
       "1   4q3ewBCX7sLwd24euuV69X       Bad Bunny   \n",
       "2   0XeEobZplHxzM9QzFQWLiR  Eslabon Armado   \n",
       "3   12GqGscKJx3aE4t07u7eVZ      Peso Pluma   \n",
       "4   1NNRWkhwmcXRimFYSBpB1y       Yng Lvcas   \n",
       "..                     ...             ...   \n",
       "71  4q3ewBCX7sLwd24euuV69X       Bad Bunny   \n",
       "72  246dkjvS1zLTtiykXe5h60     Post Malone   \n",
       "73  4obzFoKoKRHIphyHzJ35G3         Becky G   \n",
       "74  12GqGscKJx3aE4t07u7eVZ      Peso Pluma   \n",
       "75  6HvZYsbFfjnjFrWF950C9d        NewJeans   \n",
       "\n",
       "                                         external_url  \n",
       "0   https://api.spotify.com/v1/artists/6XkjpgcEsYa...  \n",
       "1   https://api.spotify.com/v1/artists/4q3ewBCX7sL...  \n",
       "2   https://api.spotify.com/v1/artists/0XeEobZplHx...  \n",
       "3   https://api.spotify.com/v1/artists/12GqGscKJx3...  \n",
       "4   https://api.spotify.com/v1/artists/1NNRWkhwmcX...  \n",
       "..                                                ...  \n",
       "71  https://api.spotify.com/v1/artists/4q3ewBCX7sL...  \n",
       "72  https://api.spotify.com/v1/artists/246dkjvS1zL...  \n",
       "73  https://api.spotify.com/v1/artists/4obzFoKoKRH...  \n",
       "74  https://api.spotify.com/v1/artists/12GqGscKJx3...  \n",
       "75  https://api.spotify.com/v1/artists/6HvZYsbFfjn...  \n",
       "\n",
       "[76 rows x 3 columns]"
      ]
     },
     "execution_count": 64,
     "metadata": {},
     "output_type": "execute_result"
    }
   ],
   "source": [
    "sp = pd.DataFrame.from_dict(artist_list)\n",
    "sp"
   ]
  },
  {
   "cell_type": "code",
   "execution_count": 69,
   "metadata": {},
   "outputs": [],
   "source": [
    "song_list = []\n",
    "for row in data['items']:\n",
    "    song_id = row['track']['id']\n",
    "    song_name = row['track']['name']\n",
    "    song_duration = row['track']['duration_ms']\n",
    "    song_url = row['track']['external_urls']['spotify']\n",
    "    song_popularity = row['track']['popularity']\n",
    "    song_added = row['added_at']\n",
    "    album_id = row['track']['album']['id']\n",
    "    artist_id = row['track']['album']['artists'][0]['id']\n",
    "    song_element = {'song_id':song_id,'song_name':song_name,'duration_ms':song_duration,'url':song_url,'popularity':song_popularity,'song_added':song_added,'album_id':album_id,'artist_id':artist_id}\n",
    "    song_list.append(song_element)\n",
    "  "
   ]
  },
  {
   "cell_type": "code",
   "execution_count": 71,
   "metadata": {},
   "outputs": [
    {
     "data": {
      "text/html": [
       "<div>\n",
       "<style scoped>\n",
       "    .dataframe tbody tr th:only-of-type {\n",
       "        vertical-align: middle;\n",
       "    }\n",
       "\n",
       "    .dataframe tbody tr th {\n",
       "        vertical-align: top;\n",
       "    }\n",
       "\n",
       "    .dataframe thead th {\n",
       "        text-align: right;\n",
       "    }\n",
       "</style>\n",
       "<table border=\"1\" class=\"dataframe\">\n",
       "  <thead>\n",
       "    <tr style=\"text-align: right;\">\n",
       "      <th></th>\n",
       "      <th>album_id</th>\n",
       "      <th>name</th>\n",
       "      <th>release_date</th>\n",
       "      <th>total_tracks</th>\n",
       "      <th>url</th>\n",
       "    </tr>\n",
       "  </thead>\n",
       "  <tbody>\n",
       "    <tr>\n",
       "      <th>0</th>\n",
       "      <td>7aGzSSUD8S6IhPCsZSiuMT</td>\n",
       "      <td>un x100to</td>\n",
       "      <td>2023-04-17</td>\n",
       "      <td>1</td>\n",
       "      <td>https://open.spotify.com/album/7aGzSSUD8S6IhPC...</td>\n",
       "    </tr>\n",
       "    <tr>\n",
       "      <th>1</th>\n",
       "      <td>5aDEezKnOqyQo0qvTFhpkM</td>\n",
       "      <td>DESVELADO</td>\n",
       "      <td>2023-04-28</td>\n",
       "      <td>16</td>\n",
       "      <td>https://open.spotify.com/album/5aDEezKnOqyQo0q...</td>\n",
       "    </tr>\n",
       "    <tr>\n",
       "      <th>2</th>\n",
       "      <td>6aBVGuOUEuX18rHxyDWbti</td>\n",
       "      <td>La Bebe (Remix)</td>\n",
       "      <td>2023-03-17</td>\n",
       "      <td>2</td>\n",
       "      <td>https://open.spotify.com/album/6aBVGuOUEuX18rH...</td>\n",
       "    </tr>\n",
       "    <tr>\n",
       "      <th>3</th>\n",
       "      <td>5letLUZIFsQikJYShfGNs4</td>\n",
       "      <td>The Beginning: Cupid</td>\n",
       "      <td>2023-02-24</td>\n",
       "      <td>3</td>\n",
       "      <td>https://open.spotify.com/album/5letLUZIFsQikJY...</td>\n",
       "    </tr>\n",
       "    <tr>\n",
       "      <th>4</th>\n",
       "      <td>0HiZ8fNXwJOQcrf5iflrdz</td>\n",
       "      <td>Endless Summer Vacation</td>\n",
       "      <td>2023-03-10</td>\n",
       "      <td>13</td>\n",
       "      <td>https://open.spotify.com/album/0HiZ8fNXwJOQcrf...</td>\n",
       "    </tr>\n",
       "  </tbody>\n",
       "</table>\n",
       "</div>"
      ],
      "text/plain": [
       "                 album_id                     name release_date  total_tracks  \\\n",
       "0  7aGzSSUD8S6IhPCsZSiuMT                un x100to   2023-04-17             1   \n",
       "1  5aDEezKnOqyQo0qvTFhpkM                DESVELADO   2023-04-28            16   \n",
       "2  6aBVGuOUEuX18rHxyDWbti          La Bebe (Remix)   2023-03-17             2   \n",
       "3  5letLUZIFsQikJYShfGNs4     The Beginning: Cupid   2023-02-24             3   \n",
       "4  0HiZ8fNXwJOQcrf5iflrdz  Endless Summer Vacation   2023-03-10            13   \n",
       "\n",
       "                                                 url  \n",
       "0  https://open.spotify.com/album/7aGzSSUD8S6IhPC...  \n",
       "1  https://open.spotify.com/album/5aDEezKnOqyQo0q...  \n",
       "2  https://open.spotify.com/album/6aBVGuOUEuX18rH...  \n",
       "3  https://open.spotify.com/album/5letLUZIFsQikJY...  \n",
       "4  https://open.spotify.com/album/0HiZ8fNXwJOQcrf...  "
      ]
     },
     "execution_count": 71,
     "metadata": {},
     "output_type": "execute_result"
    }
   ],
   "source": [
    "album_df = pd.DataFrame.from_dict(album_list)\n",
    "album_df.head()"
   ]
  },
  {
   "cell_type": "code",
   "execution_count": 73,
   "metadata": {},
   "outputs": [
    {
     "data": {
      "text/html": [
       "<div>\n",
       "<style scoped>\n",
       "    .dataframe tbody tr th:only-of-type {\n",
       "        vertical-align: middle;\n",
       "    }\n",
       "\n",
       "    .dataframe tbody tr th {\n",
       "        vertical-align: top;\n",
       "    }\n",
       "\n",
       "    .dataframe thead th {\n",
       "        text-align: right;\n",
       "    }\n",
       "</style>\n",
       "<table border=\"1\" class=\"dataframe\">\n",
       "  <thead>\n",
       "    <tr style=\"text-align: right;\">\n",
       "      <th></th>\n",
       "      <th>album_id</th>\n",
       "      <th>name</th>\n",
       "      <th>release_date</th>\n",
       "      <th>total_tracks</th>\n",
       "      <th>url</th>\n",
       "    </tr>\n",
       "  </thead>\n",
       "  <tbody>\n",
       "    <tr>\n",
       "      <th>0</th>\n",
       "      <td>7aGzSSUD8S6IhPCsZSiuMT</td>\n",
       "      <td>un x100to</td>\n",
       "      <td>2023-04-17</td>\n",
       "      <td>1</td>\n",
       "      <td>https://open.spotify.com/album/7aGzSSUD8S6IhPC...</td>\n",
       "    </tr>\n",
       "    <tr>\n",
       "      <th>1</th>\n",
       "      <td>5aDEezKnOqyQo0qvTFhpkM</td>\n",
       "      <td>DESVELADO</td>\n",
       "      <td>2023-04-28</td>\n",
       "      <td>16</td>\n",
       "      <td>https://open.spotify.com/album/5aDEezKnOqyQo0q...</td>\n",
       "    </tr>\n",
       "    <tr>\n",
       "      <th>2</th>\n",
       "      <td>6aBVGuOUEuX18rHxyDWbti</td>\n",
       "      <td>La Bebe (Remix)</td>\n",
       "      <td>2023-03-17</td>\n",
       "      <td>2</td>\n",
       "      <td>https://open.spotify.com/album/6aBVGuOUEuX18rH...</td>\n",
       "    </tr>\n",
       "    <tr>\n",
       "      <th>3</th>\n",
       "      <td>5letLUZIFsQikJYShfGNs4</td>\n",
       "      <td>The Beginning: Cupid</td>\n",
       "      <td>2023-02-24</td>\n",
       "      <td>3</td>\n",
       "      <td>https://open.spotify.com/album/5letLUZIFsQikJY...</td>\n",
       "    </tr>\n",
       "    <tr>\n",
       "      <th>4</th>\n",
       "      <td>0HiZ8fNXwJOQcrf5iflrdz</td>\n",
       "      <td>Endless Summer Vacation</td>\n",
       "      <td>2023-03-10</td>\n",
       "      <td>13</td>\n",
       "      <td>https://open.spotify.com/album/0HiZ8fNXwJOQcrf...</td>\n",
       "    </tr>\n",
       "  </tbody>\n",
       "</table>\n",
       "</div>"
      ],
      "text/plain": [
       "                 album_id                     name release_date  total_tracks  \\\n",
       "0  7aGzSSUD8S6IhPCsZSiuMT                un x100to   2023-04-17             1   \n",
       "1  5aDEezKnOqyQo0qvTFhpkM                DESVELADO   2023-04-28            16   \n",
       "2  6aBVGuOUEuX18rHxyDWbti          La Bebe (Remix)   2023-03-17             2   \n",
       "3  5letLUZIFsQikJYShfGNs4     The Beginning: Cupid   2023-02-24             3   \n",
       "4  0HiZ8fNXwJOQcrf5iflrdz  Endless Summer Vacation   2023-03-10            13   \n",
       "\n",
       "                                                 url  \n",
       "0  https://open.spotify.com/album/7aGzSSUD8S6IhPC...  \n",
       "1  https://open.spotify.com/album/5aDEezKnOqyQo0q...  \n",
       "2  https://open.spotify.com/album/6aBVGuOUEuX18rH...  \n",
       "3  https://open.spotify.com/album/5letLUZIFsQikJY...  \n",
       "4  https://open.spotify.com/album/0HiZ8fNXwJOQcrf...  "
      ]
     },
     "execution_count": 73,
     "metadata": {},
     "output_type": "execute_result"
    }
   ],
   "source": [
    "album_df = album_df.drop_duplicates(subset=['album_id'])\n",
    "album_df.head()"
   ]
  },
  {
   "cell_type": "code",
   "execution_count": 74,
   "metadata": {},
   "outputs": [
    {
     "data": {
      "text/html": [
       "<div>\n",
       "<style scoped>\n",
       "    .dataframe tbody tr th:only-of-type {\n",
       "        vertical-align: middle;\n",
       "    }\n",
       "\n",
       "    .dataframe tbody tr th {\n",
       "        vertical-align: top;\n",
       "    }\n",
       "\n",
       "    .dataframe thead th {\n",
       "        text-align: right;\n",
       "    }\n",
       "</style>\n",
       "<table border=\"1\" class=\"dataframe\">\n",
       "  <thead>\n",
       "    <tr style=\"text-align: right;\">\n",
       "      <th></th>\n",
       "      <th>song_id</th>\n",
       "      <th>song_name</th>\n",
       "      <th>duration_ms</th>\n",
       "      <th>url</th>\n",
       "      <th>popularity</th>\n",
       "      <th>song_added</th>\n",
       "      <th>album_id</th>\n",
       "      <th>artist_id</th>\n",
       "    </tr>\n",
       "  </thead>\n",
       "  <tbody>\n",
       "    <tr>\n",
       "      <th>0</th>\n",
       "      <td>6pD0ufEQq0xdHSsRbg9LBK</td>\n",
       "      <td>un x100to</td>\n",
       "      <td>194563</td>\n",
       "      <td>https://open.spotify.com/track/6pD0ufEQq0xdHSs...</td>\n",
       "      <td>99</td>\n",
       "      <td>2023-05-12T10:11:11Z</td>\n",
       "      <td>7aGzSSUD8S6IhPCsZSiuMT</td>\n",
       "      <td>6XkjpgcEsYab502Vr1bBeW</td>\n",
       "    </tr>\n",
       "    <tr>\n",
       "      <th>1</th>\n",
       "      <td>3qQbCzHBycnDpGskqOWY0E</td>\n",
       "      <td>Ella Baila Sola</td>\n",
       "      <td>165671</td>\n",
       "      <td>https://open.spotify.com/track/3qQbCzHBycnDpGs...</td>\n",
       "      <td>85</td>\n",
       "      <td>2023-05-12T10:11:11Z</td>\n",
       "      <td>5aDEezKnOqyQo0qvTFhpkM</td>\n",
       "      <td>0XeEobZplHxzM9QzFQWLiR</td>\n",
       "    </tr>\n",
       "    <tr>\n",
       "      <th>2</th>\n",
       "      <td>2UW7JaomAMuX9pZrjVpHAU</td>\n",
       "      <td>La Bebe - Remix</td>\n",
       "      <td>234352</td>\n",
       "      <td>https://open.spotify.com/track/2UW7JaomAMuX9pZ...</td>\n",
       "      <td>99</td>\n",
       "      <td>2023-05-12T10:11:11Z</td>\n",
       "      <td>6aBVGuOUEuX18rHxyDWbti</td>\n",
       "      <td>1NNRWkhwmcXRimFYSBpB1y</td>\n",
       "    </tr>\n",
       "    <tr>\n",
       "      <th>3</th>\n",
       "      <td>7FbrGaHYVDmfr7KoLIZnQ7</td>\n",
       "      <td>Cupid - Twin Ver.</td>\n",
       "      <td>174253</td>\n",
       "      <td>https://open.spotify.com/track/7FbrGaHYVDmfr7K...</td>\n",
       "      <td>97</td>\n",
       "      <td>2023-05-12T10:11:11Z</td>\n",
       "      <td>5letLUZIFsQikJYShfGNs4</td>\n",
       "      <td>4GJ6xDCF5jaUqD6avOuQT6</td>\n",
       "    </tr>\n",
       "    <tr>\n",
       "      <th>4</th>\n",
       "      <td>4DHcnVTT87F0zZhRPYmZ3B</td>\n",
       "      <td>Flowers</td>\n",
       "      <td>200600</td>\n",
       "      <td>https://open.spotify.com/track/4DHcnVTT87F0zZh...</td>\n",
       "      <td>90</td>\n",
       "      <td>2023-05-12T10:11:11Z</td>\n",
       "      <td>0HiZ8fNXwJOQcrf5iflrdz</td>\n",
       "      <td>5YGY8feqx7naU7z4HrwZM6</td>\n",
       "    </tr>\n",
       "  </tbody>\n",
       "</table>\n",
       "</div>"
      ],
      "text/plain": [
       "                  song_id          song_name  duration_ms  \\\n",
       "0  6pD0ufEQq0xdHSsRbg9LBK          un x100to       194563   \n",
       "1  3qQbCzHBycnDpGskqOWY0E    Ella Baila Sola       165671   \n",
       "2  2UW7JaomAMuX9pZrjVpHAU    La Bebe - Remix       234352   \n",
       "3  7FbrGaHYVDmfr7KoLIZnQ7  Cupid - Twin Ver.       174253   \n",
       "4  4DHcnVTT87F0zZhRPYmZ3B            Flowers       200600   \n",
       "\n",
       "                                                 url  popularity  \\\n",
       "0  https://open.spotify.com/track/6pD0ufEQq0xdHSs...          99   \n",
       "1  https://open.spotify.com/track/3qQbCzHBycnDpGs...          85   \n",
       "2  https://open.spotify.com/track/2UW7JaomAMuX9pZ...          99   \n",
       "3  https://open.spotify.com/track/7FbrGaHYVDmfr7K...          97   \n",
       "4  https://open.spotify.com/track/4DHcnVTT87F0zZh...          90   \n",
       "\n",
       "             song_added                album_id               artist_id  \n",
       "0  2023-05-12T10:11:11Z  7aGzSSUD8S6IhPCsZSiuMT  6XkjpgcEsYab502Vr1bBeW  \n",
       "1  2023-05-12T10:11:11Z  5aDEezKnOqyQo0qvTFhpkM  0XeEobZplHxzM9QzFQWLiR  \n",
       "2  2023-05-12T10:11:11Z  6aBVGuOUEuX18rHxyDWbti  1NNRWkhwmcXRimFYSBpB1y  \n",
       "3  2023-05-12T10:11:11Z  5letLUZIFsQikJYShfGNs4  4GJ6xDCF5jaUqD6avOuQT6  \n",
       "4  2023-05-12T10:11:11Z  0HiZ8fNXwJOQcrf5iflrdz  5YGY8feqx7naU7z4HrwZM6  "
      ]
     },
     "execution_count": 74,
     "metadata": {},
     "output_type": "execute_result"
    }
   ],
   "source": [
    "song_df = pd.DataFrame.from_dict(song_list)\n",
    "song_df.head()"
   ]
  },
  {
   "cell_type": "code",
   "execution_count": 75,
   "metadata": {},
   "outputs": [
    {
     "data": {
      "text/html": [
       "<div>\n",
       "<style scoped>\n",
       "    .dataframe tbody tr th:only-of-type {\n",
       "        vertical-align: middle;\n",
       "    }\n",
       "\n",
       "    .dataframe tbody tr th {\n",
       "        vertical-align: top;\n",
       "    }\n",
       "\n",
       "    .dataframe thead th {\n",
       "        text-align: right;\n",
       "    }\n",
       "</style>\n",
       "<table border=\"1\" class=\"dataframe\">\n",
       "  <thead>\n",
       "    <tr style=\"text-align: right;\">\n",
       "      <th></th>\n",
       "      <th>album_id</th>\n",
       "      <th>name</th>\n",
       "      <th>release_date</th>\n",
       "      <th>total_tracks</th>\n",
       "      <th>url</th>\n",
       "    </tr>\n",
       "  </thead>\n",
       "  <tbody>\n",
       "    <tr>\n",
       "      <th>0</th>\n",
       "      <td>7aGzSSUD8S6IhPCsZSiuMT</td>\n",
       "      <td>un x100to</td>\n",
       "      <td>2023-04-17</td>\n",
       "      <td>1</td>\n",
       "      <td>https://open.spotify.com/album/7aGzSSUD8S6IhPC...</td>\n",
       "    </tr>\n",
       "    <tr>\n",
       "      <th>1</th>\n",
       "      <td>5aDEezKnOqyQo0qvTFhpkM</td>\n",
       "      <td>DESVELADO</td>\n",
       "      <td>2023-04-28</td>\n",
       "      <td>16</td>\n",
       "      <td>https://open.spotify.com/album/5aDEezKnOqyQo0q...</td>\n",
       "    </tr>\n",
       "    <tr>\n",
       "      <th>2</th>\n",
       "      <td>6aBVGuOUEuX18rHxyDWbti</td>\n",
       "      <td>La Bebe (Remix)</td>\n",
       "      <td>2023-03-17</td>\n",
       "      <td>2</td>\n",
       "      <td>https://open.spotify.com/album/6aBVGuOUEuX18rH...</td>\n",
       "    </tr>\n",
       "    <tr>\n",
       "      <th>3</th>\n",
       "      <td>5letLUZIFsQikJYShfGNs4</td>\n",
       "      <td>The Beginning: Cupid</td>\n",
       "      <td>2023-02-24</td>\n",
       "      <td>3</td>\n",
       "      <td>https://open.spotify.com/album/5letLUZIFsQikJY...</td>\n",
       "    </tr>\n",
       "    <tr>\n",
       "      <th>4</th>\n",
       "      <td>0HiZ8fNXwJOQcrf5iflrdz</td>\n",
       "      <td>Endless Summer Vacation</td>\n",
       "      <td>2023-03-10</td>\n",
       "      <td>13</td>\n",
       "      <td>https://open.spotify.com/album/0HiZ8fNXwJOQcrf...</td>\n",
       "    </tr>\n",
       "  </tbody>\n",
       "</table>\n",
       "</div>"
      ],
      "text/plain": [
       "                 album_id                     name release_date  total_tracks  \\\n",
       "0  7aGzSSUD8S6IhPCsZSiuMT                un x100to   2023-04-17             1   \n",
       "1  5aDEezKnOqyQo0qvTFhpkM                DESVELADO   2023-04-28            16   \n",
       "2  6aBVGuOUEuX18rHxyDWbti          La Bebe (Remix)   2023-03-17             2   \n",
       "3  5letLUZIFsQikJYShfGNs4     The Beginning: Cupid   2023-02-24             3   \n",
       "4  0HiZ8fNXwJOQcrf5iflrdz  Endless Summer Vacation   2023-03-10            13   \n",
       "\n",
       "                                                 url  \n",
       "0  https://open.spotify.com/album/7aGzSSUD8S6IhPC...  \n",
       "1  https://open.spotify.com/album/5aDEezKnOqyQo0q...  \n",
       "2  https://open.spotify.com/album/6aBVGuOUEuX18rH...  \n",
       "3  https://open.spotify.com/album/5letLUZIFsQikJY...  \n",
       "4  https://open.spotify.com/album/0HiZ8fNXwJOQcrf...  "
      ]
     },
     "execution_count": 75,
     "metadata": {},
     "output_type": "execute_result"
    }
   ],
   "source": [
    "album_df.head()"
   ]
  },
  {
   "cell_type": "code",
   "execution_count": 76,
   "metadata": {},
   "outputs": [],
   "source": [
    "album_df['release_date'] = pd.to_datetime(album_df['release_date'])"
   ]
  },
  {
   "cell_type": "code",
   "execution_count": 77,
   "metadata": {},
   "outputs": [],
   "source": [
    "song_df['song_added'] = pd.to_datetime(song_df['song_added'])"
   ]
  },
  {
   "cell_type": "code",
   "execution_count": 78,
   "metadata": {},
   "outputs": [
    {
     "name": "stdout",
     "output_type": "stream",
     "text": [
      "<class 'pandas.core.frame.DataFrame'>\n",
      "RangeIndex: 50 entries, 0 to 49\n",
      "Data columns (total 8 columns):\n",
      " #   Column       Non-Null Count  Dtype              \n",
      "---  ------       --------------  -----              \n",
      " 0   song_id      50 non-null     object             \n",
      " 1   song_name    50 non-null     object             \n",
      " 2   duration_ms  50 non-null     int64              \n",
      " 3   url          50 non-null     object             \n",
      " 4   popularity   50 non-null     int64              \n",
      " 5   song_added   50 non-null     datetime64[ns, UTC]\n",
      " 6   album_id     50 non-null     object             \n",
      " 7   artist_id    50 non-null     object             \n",
      "dtypes: datetime64[ns, UTC](1), int64(2), object(5)\n",
      "memory usage: 3.2+ KB\n"
     ]
    }
   ],
   "source": [
    "song_df.info()"
   ]
  }
 ],
 "metadata": {
  "kernelspec": {
   "display_name": "Python 3",
   "language": "python",
   "name": "python3"
  },
  "language_info": {
   "codemirror_mode": {
    "name": "ipython",
    "version": 3
   },
   "file_extension": ".py",
   "mimetype": "text/x-python",
   "name": "python",
   "nbconvert_exporter": "python",
   "pygments_lexer": "ipython3",
   "version": "3.11.1"
  },
  "orig_nbformat": 4
 },
 "nbformat": 4,
 "nbformat_minor": 2
}
